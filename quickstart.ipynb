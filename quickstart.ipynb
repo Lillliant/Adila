{
 "cells": [
  {
   "cell_type": "code",
   "execution_count": null,
   "metadata": {
    "collapsed": true
   },
   "outputs": [],
   "source": [
    "!sudo apt-get update -y\n",
    "!sudo apt-get install python3.8\n",
    "!sudo update-alternatives --install /usr/bin/python3 python3 /usr/bin/python3.7 1\n",
    "!sudo update-alternatives --install /usr/bin/python3 python3 /usr/bin/python3.8 2\n",
    "!python --version\n",
    "!sudo apt-get install python3-pip\n",
    "!python -m pip install --upgrade pip"
   ]
  },
  {
   "cell_type": "code",
   "execution_count": null,
   "outputs": [],
   "source": [
    "%rm -R opentf/\n",
    "!git clone https://github.com/Fani-Lab/opentf\n",
    "%cd opentf\n",
    "!pip install virtualenv\n",
    "!virtualenv opentf\n",
    "!opentf/bin/pip install -r requirements.txt\n",
    "!opentf/bin/pip install ipykernel\n",
    "import sys\n",
    "sys.path.append(\"opentf/lib/python3.8/site-packages\")\n",
    "%cd src/"
   ],
   "metadata": {
    "collapsed": false
   }
  },
  {
   "cell_type": "code",
   "execution_count": null,
   "outputs": [],
   "source": [
    "#!apt-get install --assume-yes p7zip-full\n",
    "#!wget -O ../data/raw/imdb/name.basics.tsv.gz https://datasets.imdbws.com/name.basics.tsv.gz\n",
    "#!wget -O ../data/raw/imdb/title.basics.tsv.gz https://datasets.imdbws.com/title.basics.tsv.gz\n",
    "#!wget -O ../data/raw/imdb/title.principals.tsv.gz https://datasets.imdbws.com/title.principals.tsv.gz\n",
    "#!7z e ../data/raw/imdb/name.basics.tsv.gz -o../data/raw/imdb/\n",
    "#!mv ../data/raw/imdb/data.tsv ../data/raw/imdb/name.basics.tsv\n",
    "#!7z e ../data/raw/imdb/title.basics.tsv.gz -o../data/raw/imdb/\n",
    "#!mv ../data/raw/imdb/data.tsv ../data/raw/imdb/title.basics.tsv\n",
    "#!7z e ../data/raw/imdb/title.principals.tsv.gz -o../data/raw/imdb/\n",
    "#!mv ../data/raw/imdb/data.tsv ../data/raw/imdb/title.principals.tsv"
   ],
   "metadata": {
    "collapsed": false
   }
  },
  {
   "cell_type": "code",
   "execution_count": null,
   "outputs": [],
   "source": [
    "#!apt-get install --assume-yes p7zip-full\n",
    "#!wget -O ../data/raw/dblp/dblp.v12.7z https://originalstatic.aminer.cn/misc/dblp.v12.7z\n",
    "#!7z e ../data/raw/dblp/dblp.v12.7z -o../data/raw/dblp/"
   ],
   "metadata": {
    "collapsed": false
   }
  },
  {
   "cell_type": "code",
   "execution_count": null,
   "outputs": [],
   "source": [
    "!cat param.py"
   ],
   "metadata": {
    "collapsed": false
   }
  },
  {
   "cell_type": "code",
   "execution_count": null,
   "outputs": [],
   "source": [
    "!rm -R ../data/preprocessed/dblp/toy.dblp.v12.json/\n",
    "!rm -R ../data/preprocessed/imdb/toy.title.basics.tsv/\n",
    "!rm -R ../data/preprocessed/uspt/toy.patent.tsv/"
   ],
   "metadata": {
    "collapsed": false
   }
  },
  {
   "cell_type": "code",
   "execution_count": null,
   "outputs": [],
   "source": [
    "!../opentf/bin/python3 main.py -data ../data/raw/dblp/toy.dblp.v12.json -domain dblp -model bnn bnn_emb tbnn_emb tbnn_dt2v_emb random -algorithm det_greedy -k_max 10"
   ],
   "metadata": {
    "collapsed": false
   }
  },
  {
   "cell_type": "code",
   "execution_count": null,
   "outputs": [],
   "source": [
    "!ls ../output/toy.dblp.v12.json/"
   ],
   "metadata": {
    "collapsed": false
   }
  },
  {
   "cell_type": "code",
   "execution_count": null,
   "outputs": [],
   "source": [
    "!ls ../output/toy.dblp.v12.json/tbnn_emb/t31.s100.m13.l[128].lr0.1.b4.e20.nns3.nsunigram_b.s1\n",
    "!ls ../output/toy.dblp.v12.json/tbnn_emb/t31.s100.m13.l[128].lr0.1.b4.e20.nns3.nsunigram_b.s1/2004"
   ],
   "metadata": {
    "collapsed": false
   }
  },
  {
   "cell_type": "code",
   "execution_count": null,
   "outputs": [],
   "source": [
    "from IPython.display import Image\n",
    "Image('../output/toy.dblp.v12.json/tbnn_emb/t31.s100.m13.l[128].lr0.1.b4.e20.nns3.nsunigram_b.s1/2004/test.roc.png')"
   ],
   "metadata": {
    "collapsed": false
   }
  },
  {
   "cell_type": "code",
   "execution_count": null,
   "outputs": [],
   "source": [
    "import pandas as pd\n",
    "pd.read_csv('../output/toy.dblp.v12.json/tbnn_emb/t31.s100.m13.l[128].lr0.1.b4.e20.nns3.nsunigram_b.s1/2004/test.pred.eval.mean.csv', index_col = 0)"
   ],
   "metadata": {
    "collapsed": false
   }
  }
 ],
 "metadata": {
  "kernelspec": {
   "display_name": "Python 3",
   "language": "python",
   "name": "python3"
  },
  "language_info": {
   "codemirror_mode": {
    "name": "ipython",
    "version": 2
   },
   "file_extension": ".py",
   "mimetype": "text/x-python",
   "name": "python",
   "nbconvert_exporter": "python",
   "pygments_lexer": "ipython2",
   "version": "2.7.6"
  }
 },
 "nbformat": 4,
 "nbformat_minor": 0
}
